{
 "cells": [
  {
   "cell_type": "code",
   "execution_count": null,
   "id": "9b03698e",
   "metadata": {},
   "outputs": [],
   "source": [
    "import numpy as np\n",
    "import pandas as pd\n",
    "from sklearn.model_selection import train_test_split\n",
    "from sklearn.linear_model import LogisticRegression\n",
    "from sklearn.metrics import accuracy_score\n",
    "from sklearn.metrics import roc_curve, auc\n",
    "import matplotlib.pyplot as plt\n",
    "import seaborn as sns"
   ]
  },
  {
   "cell_type": "code",
   "execution_count": null,
   "id": "b3d782ad",
   "metadata": {},
   "outputs": [],
   "source": [
    "heartdata=pd.read_csv(\"heart_disease.csv\")"
   ]
  },
  {
   "cell_type": "code",
   "execution_count": null,
   "id": "cd302974",
   "metadata": {},
   "outputs": [],
   "source": [
    "heartdata.head()\n",
    "heartdata.tail()\n",
    "# heartdata.shape/"
   ]
  },
  {
   "cell_type": "code",
   "execution_count": null,
   "id": "94ef5fc7",
   "metadata": {},
   "outputs": [],
   "source": [
    "heartdata.info()\n",
    "heartdata.describe()"
   ]
  },
  {
   "cell_type": "code",
   "execution_count": null,
   "id": "dd71b041",
   "metadata": {},
   "outputs": [],
   "source": [
    "targets=heartdata['target'].value_counts()"
   ]
  },
  {
   "cell_type": "code",
   "execution_count": null,
   "id": "1366d888",
   "metadata": {},
   "outputs": [],
   "source": [
    "#all columns\n",
    "X=heartdata.drop(columns='target',axis=1)\n",
    "#target column\n",
    "Y=heartdata['target']"
   ]
  },
  {
   "cell_type": "code",
   "execution_count": null,
   "id": "210579d5",
   "metadata": {},
   "outputs": [],
   "source": [
    "X_train,X_test,Y_train,Y_test=train_test_split(X,Y,test_size=0.2,stratify=Y,random_state=2)\n",
    "print(X.shape,X_train.shape,X_test.shape)"
   ]
  },
  {
   "cell_type": "code",
   "execution_count": null,
   "id": "4556750d",
   "metadata": {},
   "outputs": [],
   "source": [
    "model=LogisticRegression()\n",
    "model.fit(X_train,Y_train )"
   ]
  },
  {
   "cell_type": "code",
   "execution_count": null,
   "id": "102cdd98",
   "metadata": {},
   "outputs": [],
   "source": [
    "X_train_prediction=model.predict(X_train)\n",
    "trainigdataaccuracy=accuracy_score(X_train_prediction,Y_train)\n"
   ]
  },
  {
   "cell_type": "code",
   "execution_count": null,
   "id": "9c26c585",
   "metadata": {},
   "outputs": [],
   "source": [
    " print( trainigdataaccuracy)"
   ]
  },
  {
   "cell_type": "code",
   "execution_count": null,
   "id": "9bacdcf6",
   "metadata": {},
   "outputs": [],
   "source": [
    "X_test_prediction=model.predict(X_test)\n",
    "testdataaccuracy=accuracy_score(X_test_prediction,Y_test)\n",
    "print( testdataaccuracy)"
   ]
  },
  {
   "cell_type": "code",
   "execution_count": null,
   "id": "73f19e15",
   "metadata": {},
   "outputs": [],
   "source": [
    "  \n"
   ]
  },
  {
   "cell_type": "code",
   "execution_count": null,
   "id": "6f6f6bbf",
   "metadata": {},
   "outputs": [],
   "source": [
    "Y_test_probabilities = model.predict_proba(X_test)[:, 1]\n",
    "fpr, tpr, _ = roc_curve(Y_test, Y_test_probabilities)\n",
    "roc_auc = auc(fpr, tpr)\n",
    "\n",
    "plt.figure()\n",
    "plt.plot(fpr, tpr, color='darkorange', lw=2, label='ROC curve (area = %0.2f)' % roc_auc)\n",
    "plt.plot([0, 1], [0, 1], color='navy', lw=2, linestyle='--')\n",
    "plt.xlabel('False Positive Rate')\n",
    "plt.ylabel('True Positive Rate')\n",
    "plt.title('Receiver Operating Characteristic (ROC) Curve')\n",
    "plt.legend(loc=\"lower right\")\n",
    "plt.show()"
   ]
  },
  {
   "cell_type": "code",
   "execution_count": null,
   "id": "c2417eec",
   "metadata": {},
   "outputs": [],
   "source": [
    "train_accuracies = []\n",
    "test_accuracies = []\n",
    "for i in range(1, 21):\n",
    "    model.set_params(max_iter=i)\n",
    "    model.fit(X_train, Y_train)\n",
    "    Y_train_predictions = model.predict(X_train)\n",
    "    Y_test_predictions = model.predict(X_test)\n",
    "    train_accuracy = accuracy_score(Y_train_predictions, Y_train)\n",
    "    test_accuracy = accuracy_score(Y_test_predictions, Y_test)\n",
    "    train_accuracies.append(train_accuracy)\n",
    "    test_accuracies.append(test_accuracy)\n",
    "\n",
    "plt.plot(range(1, 21), train_accuracies, label='Training Accuracy')\n",
    "plt.plot(range(1, 21), test_accuracies, label='Testing Accuracy')\n",
    "plt.xlabel('Number of Iterations')\n",
    "plt.ylabel('Accuracy')\n",
    "plt.title('Training Progress of Logistic Regression Model')\n",
    "plt.legend(loc='lower right')\n",
    "plt.show()\n"
   ]
  },
  {
   "cell_type": "code",
   "execution_count": null,
   "id": "2d3ac128",
   "metadata": {},
   "outputs": [],
   "source": [
    "sns.countplot(data= heartdata, x='target', palette=\"mako\")\n",
    "plt.xlabel('Has Heart Disease (1 = Yes, 0 = No)')\n",
    "plt.ylabel('Count')\n",
    "plt.title('Distribution of Heart Disease in Dataset')\n",
    "plt.show()"
   ]
  },
  {
   "cell_type": "code",
   "execution_count": null,
   "id": "4897905f",
   "metadata": {},
   "outputs": [],
   "source": [
    "# Plot the heatmap\n",
    "\n",
    "fig, ax = plt.subplots(figsize=(15, 15))\n",
    "sns.heatmap(heartdata.corr(),ax=ax, annot=True)\n",
    "\n",
    "# Show the plot\n",
    "plt.show()"
   ]
  },
  {
   "cell_type": "code",
   "execution_count": null,
   "id": "497b9e1b",
   "metadata": {},
   "outputs": [],
   "source": [
    "# values = {age, sex, cp, restbps, chol, fbs, restecg, thalach, exang, oldpeak, slope, ca ,thal, target}\n",
    "\n",
    "input_from_user=(78,0,0,118,159,4,1,125,3,1.6,1,4,2)\n",
    "input_from_user_array=np.asarray(input_from_user)\n",
    "input_from_user_reshaped=input_from_user_array.reshape(1,-1)\n",
    "prediction=model.predict(input_from_user_reshaped)\n",
    "\n",
    "\n",
    "if prediction[0]==0:\n",
    "    print(\"Patient Does not have  Any Heart Dieseas\")\n",
    "else:\n",
    "    print(\"Patient Has heart dieseas he needs more tests\")  "
   ]
  },
  {
   "cell_type": "code",
   "execution_count": null,
   "id": "c831d208",
   "metadata": {},
   "outputs": [],
   "source": [
    "import pickle    # for use to deploy the model on flask "
   ]
  },
  {
   "cell_type": "code",
   "execution_count": null,
   "id": "a62dfef9",
   "metadata": {},
   "outputs": [],
   "source": [
    "pickle.dump(model,open('model.pkl','wb'))"
   ]
  },
  {
   "cell_type": "code",
   "execution_count": null,
   "id": "8980b12c-6d7a-4c40-88ed-98bf691a0d2e",
   "metadata": {},
   "outputs": [],
   "source": [
    "heartdata[\"thal\"] = heartdata[\"thal\"].fillna(heartdata[\"thal\"].median())\n",
    "heartdata[\"ca\"] = heartdata[\"ca\"].fillna(heartdata[\"ca\"].median())\n",
    "print(heartdata.describe())"
   ]
  },
  {
   "cell_type": "code",
   "execution_count": null,
   "id": "57cd0b1c-fff2-4038-9768-f804a04257f6",
   "metadata": {},
   "outputs": [],
   "source": [
    "\n"
   ]
  },
  {
   "cell_type": "code",
   "execution_count": null,
   "id": "d90e4a38-91c6-45cb-84ad-a52036ef0f32",
   "metadata": {},
   "outputs": [],
   "source": []
  }
 ],
 "metadata": {
  "kernelspec": {
   "display_name": "Python 3 (ipykernel)",
   "language": "python",
   "name": "python3"
  },
  "language_info": {
   "codemirror_mode": {
    "name": "ipython",
    "version": 3
   },
   "file_extension": ".py",
   "mimetype": "text/x-python",
   "name": "python",
   "nbconvert_exporter": "python",
   "pygments_lexer": "ipython3",
   "version": "3.11.9"
  }
 },
 "nbformat": 4,
 "nbformat_minor": 5
}
